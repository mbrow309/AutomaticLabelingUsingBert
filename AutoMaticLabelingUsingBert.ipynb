{
  "nbformat": 4,
  "nbformat_minor": 0,
  "metadata": {
    "colab": {
      "name": "AutoMaticLabelingUsingBert.ipynb",
      "provenance": [],
      "collapsed_sections": []
    },
    "kernelspec": {
      "name": "python3",
      "display_name": "Python 3"
    },
    "language_info": {
      "name": "python"
    },
    "accelerator": "GPU"
  },
  "cells": [
    {
      "cell_type": "markdown",
      "metadata": {
        "id": "xJRxdpru5SD9"
      },
      "source": [
        "# install transformers using pip"
      ]
    },
    {
      "cell_type": "code",
      "metadata": {
        "id": "SrNQA58IgYBs"
      },
      "source": [
        "!pip install -q transformers\n"
      ],
      "execution_count": 1,
      "outputs": []
    },
    {
      "cell_type": "markdown",
      "metadata": {
        "id": "g204jHRo5YfT"
      },
      "source": [
        "# import the required libraries"
      ]
    },
    {
      "cell_type": "code",
      "metadata": {
        "id": "FvHyRE_8nc9K"
      },
      "source": [
        "from transformers import AutoTokenizer, AutoModelForSequenceClassification\n",
        "from bs4 import BeautifulSoup\n",
        "import pandas as pd\n",
        "import numpy as np\n",
        "import re\n",
        "import torch\n",
        "import requests"
      ],
      "execution_count": 2,
      "outputs": []
    },
    {
      "cell_type": "markdown",
      "metadata": {
        "id": "KHhP1u-P5gLJ"
      },
      "source": [
        "# Define tokenizer and model"
      ]
    },
    {
      "cell_type": "code",
      "metadata": {
        "id": "Ubo2aWAQn7bJ"
      },
      "source": [
        "tokenizer = AutoTokenizer.from_pretrained('nlptown/bert-base-multilingual-uncased-sentiment')\n",
        "model = AutoModelForSequenceClassification.from_pretrained('nlptown/bert-base-multilingual-uncased-sentiment')"
      ],
      "execution_count": 3,
      "outputs": []
    },
    {
      "cell_type": "markdown",
      "metadata": {
        "id": "D3OF4wyz5rSU"
      },
      "source": [
        "# test the tokenizer and model on a sample"
      ]
    },
    {
      "cell_type": "code",
      "metadata": {
        "id": "siB_1_xaoVPt"
      },
      "source": [
        "text = 'the plan is working for us now'"
      ],
      "execution_count": 4,
      "outputs": []
    },
    {
      "cell_type": "code",
      "metadata": {
        "id": "8uSG5qtJogmn"
      },
      "source": [
        "token = tokenizer.encode(text, return_tensors='pt')"
      ],
      "execution_count": 5,
      "outputs": []
    },
    {
      "cell_type": "code",
      "metadata": {
        "id": "Twgs165Aoph7"
      },
      "source": [
        "result = model(token)"
      ],
      "execution_count": 6,
      "outputs": []
    },
    {
      "cell_type": "code",
      "metadata": {
        "colab": {
          "base_uri": "https://localhost:8080/"
        },
        "id": "F7LhW-aUoqq6",
        "outputId": "c743b131-ca88-4502-fcbe-e9e7c2280501"
      },
      "source": [
        "result"
      ],
      "execution_count": 7,
      "outputs": [
        {
          "output_type": "execute_result",
          "data": {
            "text/plain": [
              "SequenceClassifierOutput([('logits',\n",
              "                           tensor([[-2.3277, -1.5535,  0.5637,  1.4955,  1.3144]],\n",
              "                                  grad_fn=<AddmmBackward>))])"
            ]
          },
          "metadata": {
            "tags": []
          },
          "execution_count": 7
        }
      ]
    },
    {
      "cell_type": "markdown",
      "metadata": {
        "id": "bggC82gu5yyY"
      },
      "source": [
        "# use torch argmax to acquire the sentiment of the text"
      ]
    },
    {
      "cell_type": "code",
      "metadata": {
        "colab": {
          "base_uri": "https://localhost:8080/"
        },
        "id": "M1E-WxLrpX2-",
        "outputId": "0de85e0f-22c0-43d7-cc9c-ce2d10f22409"
      },
      "source": [
        "int(torch.argmax(result.logits))+1"
      ],
      "execution_count": 8,
      "outputs": [
        {
          "output_type": "execute_result",
          "data": {
            "text/plain": [
              "4"
            ]
          },
          "metadata": {
            "tags": []
          },
          "execution_count": 8
        }
      ]
    },
    {
      "cell_type": "markdown",
      "metadata": {
        "id": "iw36nih0566N"
      },
      "source": [
        "# extract reviews from yelp using beautifulsoup"
      ]
    },
    {
      "cell_type": "code",
      "metadata": {
        "id": "ZUZz7thTqeaI"
      },
      "source": [
        "r = requests.get('https://www.yelp.com/biz/siam-orchid-traditional-thai-massage-san-francisco-2')\n",
        "soup = BeautifulSoup(r.text, 'html.parser')"
      ],
      "execution_count": 9,
      "outputs": []
    },
    {
      "cell_type": "code",
      "metadata": {
        "id": "SJPM9BgwqyPU"
      },
      "source": [
        "regex = re.compile('.*comment.*')"
      ],
      "execution_count": 10,
      "outputs": []
    },
    {
      "cell_type": "code",
      "metadata": {
        "id": "kJhTgTHXrMuX"
      },
      "source": [
        "result = soup.find_all('p', {'class':regex})"
      ],
      "execution_count": 11,
      "outputs": []
    },
    {
      "cell_type": "code",
      "metadata": {
        "id": "pFHNzS-hrV8J"
      },
      "source": [
        "texts = [r.text for r in result]"
      ],
      "execution_count": 12,
      "outputs": []
    },
    {
      "cell_type": "markdown",
      "metadata": {
        "id": "7RnkzHy36DGP"
      },
      "source": [
        "# convert the collected reviews to a pandas dataframe"
      ]
    },
    {
      "cell_type": "code",
      "metadata": {
        "id": "S-D-4R1hrd5U"
      },
      "source": [
        "df = pd.DataFrame(np.asanyarray(texts), columns=['reviews'])"
      ],
      "execution_count": 13,
      "outputs": []
    },
    {
      "cell_type": "code",
      "metadata": {
        "colab": {
          "base_uri": "https://localhost:8080/",
          "height": 205
        },
        "id": "i7y4GigzrfZm",
        "outputId": "769959f1-1f8d-4f48-f435-7ce4f1e75be9"
      },
      "source": [
        "df.head()"
      ],
      "execution_count": 14,
      "outputs": [
        {
          "output_type": "execute_result",
          "data": {
            "text/html": [
              "<div>\n",
              "<style scoped>\n",
              "    .dataframe tbody tr th:only-of-type {\n",
              "        vertical-align: middle;\n",
              "    }\n",
              "\n",
              "    .dataframe tbody tr th {\n",
              "        vertical-align: top;\n",
              "    }\n",
              "\n",
              "    .dataframe thead th {\n",
              "        text-align: right;\n",
              "    }\n",
              "</style>\n",
              "<table border=\"1\" class=\"dataframe\">\n",
              "  <thead>\n",
              "    <tr style=\"text-align: right;\">\n",
              "      <th></th>\n",
              "      <th>reviews</th>\n",
              "    </tr>\n",
              "  </thead>\n",
              "  <tbody>\n",
              "    <tr>\n",
              "      <th>0</th>\n",
              "      <td>My experience this past weekend was transforma...</td>\n",
              "    </tr>\n",
              "    <tr>\n",
              "      <th>1</th>\n",
              "      <td>I had an amazing time getting a massage from J...</td>\n",
              "    </tr>\n",
              "    <tr>\n",
              "      <th>2</th>\n",
              "      <td>This place is amazing! Very clean and Covid sa...</td>\n",
              "    </tr>\n",
              "    <tr>\n",
              "      <th>3</th>\n",
              "      <td>Now, this is massage! Two hrs of Thai deep tis...</td>\n",
              "    </tr>\n",
              "    <tr>\n",
              "      <th>4</th>\n",
              "      <td>Definitely seems like I'm in the minority here...</td>\n",
              "    </tr>\n",
              "  </tbody>\n",
              "</table>\n",
              "</div>"
            ],
            "text/plain": [
              "                                             reviews\n",
              "0  My experience this past weekend was transforma...\n",
              "1  I had an amazing time getting a massage from J...\n",
              "2  This place is amazing! Very clean and Covid sa...\n",
              "3  Now, this is massage! Two hrs of Thai deep tis...\n",
              "4  Definitely seems like I'm in the minority here..."
            ]
          },
          "metadata": {
            "tags": []
          },
          "execution_count": 14
        }
      ]
    },
    {
      "cell_type": "markdown",
      "metadata": {
        "id": "Q8cITkOA6J2M"
      },
      "source": [
        "# define a function for labeling"
      ]
    },
    {
      "cell_type": "code",
      "metadata": {
        "id": "WvdakVFCr0QN"
      },
      "source": [
        "def annotate(text):\n",
        "  token = tokenizer.encode(text, return_tensors='pt')\n",
        "  result = model(token)\n",
        "  return int(torch.argmax(result.logits)) + 1"
      ],
      "execution_count": 15,
      "outputs": []
    },
    {
      "cell_type": "markdown",
      "metadata": {
        "id": "l-QCUbIN6SVf"
      },
      "source": [
        "# applying the fucntion "
      ]
    },
    {
      "cell_type": "code",
      "metadata": {
        "id": "6ZlABSKVsPP6"
      },
      "source": [
        "df['label'] = df.reviews.apply(lambda x: annotate(x[:512]))"
      ],
      "execution_count": 16,
      "outputs": []
    },
    {
      "cell_type": "code",
      "metadata": {
        "colab": {
          "base_uri": "https://localhost:8080/",
          "height": 205
        },
        "id": "rAGQw5k4sU0o",
        "outputId": "a2b122cf-b4b5-4dcd-d185-a02e8279e6b5"
      },
      "source": [
        "df.head()"
      ],
      "execution_count": 17,
      "outputs": [
        {
          "output_type": "execute_result",
          "data": {
            "text/html": [
              "<div>\n",
              "<style scoped>\n",
              "    .dataframe tbody tr th:only-of-type {\n",
              "        vertical-align: middle;\n",
              "    }\n",
              "\n",
              "    .dataframe tbody tr th {\n",
              "        vertical-align: top;\n",
              "    }\n",
              "\n",
              "    .dataframe thead th {\n",
              "        text-align: right;\n",
              "    }\n",
              "</style>\n",
              "<table border=\"1\" class=\"dataframe\">\n",
              "  <thead>\n",
              "    <tr style=\"text-align: right;\">\n",
              "      <th></th>\n",
              "      <th>reviews</th>\n",
              "      <th>label</th>\n",
              "    </tr>\n",
              "  </thead>\n",
              "  <tbody>\n",
              "    <tr>\n",
              "      <th>0</th>\n",
              "      <td>My experience this past weekend was transforma...</td>\n",
              "      <td>5</td>\n",
              "    </tr>\n",
              "    <tr>\n",
              "      <th>1</th>\n",
              "      <td>I had an amazing time getting a massage from J...</td>\n",
              "      <td>5</td>\n",
              "    </tr>\n",
              "    <tr>\n",
              "      <th>2</th>\n",
              "      <td>This place is amazing! Very clean and Covid sa...</td>\n",
              "      <td>5</td>\n",
              "    </tr>\n",
              "    <tr>\n",
              "      <th>3</th>\n",
              "      <td>Now, this is massage! Two hrs of Thai deep tis...</td>\n",
              "      <td>5</td>\n",
              "    </tr>\n",
              "    <tr>\n",
              "      <th>4</th>\n",
              "      <td>Definitely seems like I'm in the minority here...</td>\n",
              "      <td>3</td>\n",
              "    </tr>\n",
              "  </tbody>\n",
              "</table>\n",
              "</div>"
            ],
            "text/plain": [
              "                                             reviews  label\n",
              "0  My experience this past weekend was transforma...      5\n",
              "1  I had an amazing time getting a massage from J...      5\n",
              "2  This place is amazing! Very clean and Covid sa...      5\n",
              "3  Now, this is massage! Two hrs of Thai deep tis...      5\n",
              "4  Definitely seems like I'm in the minority here...      3"
            ]
          },
          "metadata": {
            "tags": []
          },
          "execution_count": 17
        }
      ]
    },
    {
      "cell_type": "markdown",
      "metadata": {
        "id": "HgBX-c1U7nLz"
      },
      "source": [
        "# convert the numeric label to positvie, negative and neutral"
      ]
    },
    {
      "cell_type": "code",
      "metadata": {
        "id": "5UfdiiVe6fZA"
      },
      "source": [
        "def rate(label):\n",
        "  if label <3:\n",
        "    return 'negative'\n",
        "  if label == 3:\n",
        "    return 'neutral'\n",
        "  else:\n",
        "    return 'positive'"
      ],
      "execution_count": 18,
      "outputs": []
    },
    {
      "cell_type": "code",
      "metadata": {
        "colab": {
          "base_uri": "https://localhost:8080/",
          "height": 205
        },
        "id": "wbB6XK0F6y99",
        "outputId": "d4f656c2-16ae-4f8d-8a37-3ac84ce7daa9"
      },
      "source": [
        "df['sentiment'] = df.label.apply(rate)\n",
        "df.head()"
      ],
      "execution_count": 19,
      "outputs": [
        {
          "output_type": "execute_result",
          "data": {
            "text/html": [
              "<div>\n",
              "<style scoped>\n",
              "    .dataframe tbody tr th:only-of-type {\n",
              "        vertical-align: middle;\n",
              "    }\n",
              "\n",
              "    .dataframe tbody tr th {\n",
              "        vertical-align: top;\n",
              "    }\n",
              "\n",
              "    .dataframe thead th {\n",
              "        text-align: right;\n",
              "    }\n",
              "</style>\n",
              "<table border=\"1\" class=\"dataframe\">\n",
              "  <thead>\n",
              "    <tr style=\"text-align: right;\">\n",
              "      <th></th>\n",
              "      <th>reviews</th>\n",
              "      <th>label</th>\n",
              "      <th>sentiment</th>\n",
              "    </tr>\n",
              "  </thead>\n",
              "  <tbody>\n",
              "    <tr>\n",
              "      <th>0</th>\n",
              "      <td>My experience this past weekend was transforma...</td>\n",
              "      <td>5</td>\n",
              "      <td>positive</td>\n",
              "    </tr>\n",
              "    <tr>\n",
              "      <th>1</th>\n",
              "      <td>I had an amazing time getting a massage from J...</td>\n",
              "      <td>5</td>\n",
              "      <td>positive</td>\n",
              "    </tr>\n",
              "    <tr>\n",
              "      <th>2</th>\n",
              "      <td>This place is amazing! Very clean and Covid sa...</td>\n",
              "      <td>5</td>\n",
              "      <td>positive</td>\n",
              "    </tr>\n",
              "    <tr>\n",
              "      <th>3</th>\n",
              "      <td>Now, this is massage! Two hrs of Thai deep tis...</td>\n",
              "      <td>5</td>\n",
              "      <td>positive</td>\n",
              "    </tr>\n",
              "    <tr>\n",
              "      <th>4</th>\n",
              "      <td>Definitely seems like I'm in the minority here...</td>\n",
              "      <td>3</td>\n",
              "      <td>neutral</td>\n",
              "    </tr>\n",
              "  </tbody>\n",
              "</table>\n",
              "</div>"
            ],
            "text/plain": [
              "                                             reviews  label sentiment\n",
              "0  My experience this past weekend was transforma...      5  positive\n",
              "1  I had an amazing time getting a massage from J...      5  positive\n",
              "2  This place is amazing! Very clean and Covid sa...      5  positive\n",
              "3  Now, this is massage! Two hrs of Thai deep tis...      5  positive\n",
              "4  Definitely seems like I'm in the minority here...      3   neutral"
            ]
          },
          "metadata": {
            "tags": []
          },
          "execution_count": 19
        }
      ]
    },
    {
      "cell_type": "markdown",
      "metadata": {
        "id": "DSY8muw-7vCg"
      },
      "source": [
        "# convert the sentiment to a binary sentiment"
      ]
    },
    {
      "cell_type": "code",
      "metadata": {
        "colab": {
          "base_uri": "https://localhost:8080/",
          "height": 205
        },
        "id": "1nThgnuH7EQo",
        "outputId": "f1e51486-4bbe-4570-eeea-5996ec88ce9d"
      },
      "source": [
        "df['binary_sentiment'] = df['sentiment'].map({'positive':1, 'neutral':1, 'negative':0})\n",
        "df.head()"
      ],
      "execution_count": 20,
      "outputs": [
        {
          "output_type": "execute_result",
          "data": {
            "text/html": [
              "<div>\n",
              "<style scoped>\n",
              "    .dataframe tbody tr th:only-of-type {\n",
              "        vertical-align: middle;\n",
              "    }\n",
              "\n",
              "    .dataframe tbody tr th {\n",
              "        vertical-align: top;\n",
              "    }\n",
              "\n",
              "    .dataframe thead th {\n",
              "        text-align: right;\n",
              "    }\n",
              "</style>\n",
              "<table border=\"1\" class=\"dataframe\">\n",
              "  <thead>\n",
              "    <tr style=\"text-align: right;\">\n",
              "      <th></th>\n",
              "      <th>reviews</th>\n",
              "      <th>label</th>\n",
              "      <th>sentiment</th>\n",
              "      <th>binary_sentiment</th>\n",
              "    </tr>\n",
              "  </thead>\n",
              "  <tbody>\n",
              "    <tr>\n",
              "      <th>0</th>\n",
              "      <td>My experience this past weekend was transforma...</td>\n",
              "      <td>5</td>\n",
              "      <td>positive</td>\n",
              "      <td>1</td>\n",
              "    </tr>\n",
              "    <tr>\n",
              "      <th>1</th>\n",
              "      <td>I had an amazing time getting a massage from J...</td>\n",
              "      <td>5</td>\n",
              "      <td>positive</td>\n",
              "      <td>1</td>\n",
              "    </tr>\n",
              "    <tr>\n",
              "      <th>2</th>\n",
              "      <td>This place is amazing! Very clean and Covid sa...</td>\n",
              "      <td>5</td>\n",
              "      <td>positive</td>\n",
              "      <td>1</td>\n",
              "    </tr>\n",
              "    <tr>\n",
              "      <th>3</th>\n",
              "      <td>Now, this is massage! Two hrs of Thai deep tis...</td>\n",
              "      <td>5</td>\n",
              "      <td>positive</td>\n",
              "      <td>1</td>\n",
              "    </tr>\n",
              "    <tr>\n",
              "      <th>4</th>\n",
              "      <td>Definitely seems like I'm in the minority here...</td>\n",
              "      <td>3</td>\n",
              "      <td>neutral</td>\n",
              "      <td>1</td>\n",
              "    </tr>\n",
              "  </tbody>\n",
              "</table>\n",
              "</div>"
            ],
            "text/plain": [
              "                                             reviews  ...  binary_sentiment\n",
              "0  My experience this past weekend was transforma...  ...                 1\n",
              "1  I had an amazing time getting a massage from J...  ...                 1\n",
              "2  This place is amazing! Very clean and Covid sa...  ...                 1\n",
              "3  Now, this is massage! Two hrs of Thai deep tis...  ...                 1\n",
              "4  Definitely seems like I'm in the minority here...  ...                 1\n",
              "\n",
              "[5 rows x 4 columns]"
            ]
          },
          "metadata": {
            "tags": []
          },
          "execution_count": 20
        }
      ]
    },
    {
      "cell_type": "markdown",
      "metadata": {
        "id": "XOlsrl7MtjSJ"
      },
      "source": [
        "#Reference\n",
        " \n",
        " [HuggingFace](https://huggingface.co/nlptown/bert-base-multilingual-uncased-sentiment)\n",
        "\n",
        "\n",
        " [YELP](https://www.yelp.com/biz/siam-orchid-traditional-thai-massage-san-francisco-2)"
      ]
    }
  ]
}